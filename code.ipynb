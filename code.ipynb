{
 "cells": [
  {
   "cell_type": "code",
   "execution_count": 1,
   "metadata": {},
   "outputs": [],
   "source": [
    "import numpy as np\n",
    "import pandas as pd\n",
    "import torch\n",
    "from torch import nn\n",
    "import cv2 as cv\n",
    "import matplotlib.pyplot as plt\n",
    "import matplotlib.image as img\n",
    "# import torchvision.transforms as transforms"
   ]
  },
  {
   "cell_type": "code",
   "execution_count": 11,
   "metadata": {},
   "outputs": [
    {
     "name": "stdout",
     "output_type": "stream",
     "text": [
      "(3795, 784)\n"
     ]
    }
   ],
   "source": [
    "df = pd.read_csv('train.csv')\n",
    "df = df.loc[df['number'] == 5].drop(columns = 'number') \n",
    "print(df.shape)"
   ]
  },
  {
   "cell_type": "code",
   "execution_count": 12,
   "metadata": {},
   "outputs": [],
   "source": [
    "x_mean = torch.tensor(np.mean(np.array(df),axis=0,keepdims=True).reshape([1,784]),dtype=torch.float)\n",
    "x_std = torch.tensor((np.std((np.array(df) + 1e-4),axis=0,keepdims=True)**-1).reshape([1,784]),dtype=torch.float)"
   ]
  },
  {
   "cell_type": "code",
   "execution_count": 13,
   "metadata": {},
   "outputs": [],
   "source": [
    "class generator (nn.Module):\n",
    "    def __init__(self):\n",
    "        super(generator,self).__init__()\n",
    "        self.fwd = nn.Sequential(\n",
    "            nn.Linear(64,256),\n",
    "            nn.LeakyReLU(negative_slope=0.1),\n",
    "            nn.Linear(256,28*28),\n",
    "            nn.Tanh())\n",
    "    def forward (self,noise):\n",
    "        img = self.fwd(noise)\n",
    "        return img"
   ]
  },
  {
   "cell_type": "code",
   "execution_count": 14,
   "metadata": {},
   "outputs": [],
   "source": [
    "class critic (nn.Module):\n",
    "    def __init__(self):\n",
    "        super(critic,self).__init__()\n",
    "        self.fwd = nn.Sequential(\n",
    "            nn.Linear(in_features=28*28,out_features=128),\n",
    "            nn.LeakyReLU(negative_slope=0.1),\n",
    "            nn.Linear(in_features=128,out_features=1),\n",
    "            nn.ReLU())\n",
    "    def forward (self,img):\n",
    "        out = self.fwd(img)\n",
    "        return out"
   ]
  },
  {
   "cell_type": "code",
   "execution_count": 15,
   "metadata": {},
   "outputs": [],
   "source": [
    "g = generator()\n",
    "c = critic()"
   ]
  },
  {
   "cell_type": "code",
   "execution_count": 16,
   "metadata": {},
   "outputs": [],
   "source": [
    "g_optimizer = torch.optim.RMSprop(g.parameters(), lr=1e-3)\n",
    "c_optimizer = torch.optim.RMSprop(c.parameters(), lr=1e-4)"
   ]
  },
  {
   "cell_type": "code",
   "execution_count": 17,
   "metadata": {},
   "outputs": [
    {
     "data": {
      "text/plain": [
       "<All keys matched successfully>"
      ]
     },
     "execution_count": 17,
     "metadata": {},
     "output_type": "execute_result"
    }
   ],
   "source": [
    "PATH1 = \"generator.pt\"\n",
    "g.load_state_dict(torch.load(PATH1))\n",
    "PATH2 = \"critic.pt\"\n",
    "c.load_state_dict(torch.load(PATH2))"
   ]
  },
  {
   "cell_type": "code",
   "execution_count": 18,
   "metadata": {},
   "outputs": [
    {
     "name": "stdout",
     "output_type": "stream",
     "text": [
      "0\n",
      "1\n",
      "2\n",
      "3\n",
      "4\n",
      "5\n",
      "6\n",
      "7\n",
      "8\n",
      "9\n",
      "10\n",
      "11\n",
      "12\n",
      "13\n",
      "14\n",
      "15\n",
      "16\n",
      "17\n",
      "18\n",
      "19\n",
      "20\n",
      "21\n",
      "22\n",
      "23\n",
      "24\n",
      "25\n",
      "26\n",
      "27\n",
      "28\n",
      "29\n",
      "30\n",
      "31\n",
      "32\n",
      "33\n",
      "34\n",
      "35\n",
      "36\n",
      "37\n",
      "38\n",
      "39\n",
      "40\n",
      "41\n",
      "42\n",
      "43\n",
      "44\n",
      "45\n",
      "46\n",
      "47\n",
      "48\n",
      "49\n",
      "50\n",
      "51\n",
      "52\n",
      "53\n",
      "54\n",
      "55\n",
      "56\n",
      "57\n",
      "58\n",
      "59\n",
      "60\n",
      "61\n",
      "62\n",
      "63\n",
      "64\n",
      "65\n",
      "66\n",
      "67\n",
      "68\n",
      "69\n"
     ]
    }
   ],
   "source": [
    "for j in range (70):\n",
    "   for i in range (237):\n",
    "      img = (torch.tensor(np.array(df.iloc[16*i:16*(i+1)]).reshape([16,784]),dtype=torch.float) - x_mean)*x_std\n",
    "      noise = torch.tensor(np.random.rand(16,64),dtype=torch.float)\n",
    "      fake_img1 = g(noise)\n",
    "      noise = torch.tensor(np.random.rand(32,64),dtype=torch.float)\n",
    "      fake_img2 = g(noise)\n",
    "\n",
    "      x_cap = img*(0.3) + fake_img1*(0.7)\n",
    "      interp_logits = c(x_cap)\n",
    "      grad_outputs = torch.ones_like(interp_logits)\n",
    "      gradients = torch.autograd.grad(outputs=interp_logits, inputs=x_cap, grad_outputs=grad_outputs, create_graph=True, retain_graph=True)[0]\n",
    "      gradients = gradients.view(16, -1)\n",
    "      grad_norm = gradients.norm(2, 1)\n",
    "\n",
    "      loss = -(torch.mean(c(fake_img1) )- torch.mean(c(img)) + (torch.mean((grad_norm - 1) ** 2))*10)\n",
    "      c_optimizer.zero_grad()\n",
    "      loss.backward()\n",
    "      c_optimizer.step()\n",
    "\n",
    "      out = c(fake_img2)\n",
    "      loss = -(torch.mean(c(fake_img2)).view(-1))\n",
    "      g_optimizer.zero_grad()\n",
    "      loss.backward()\n",
    "      g_optimizer.step()\n",
    "\n",
    "   print(j)"
   ]
  },
  {
   "cell_type": "code",
   "execution_count": 19,
   "metadata": {},
   "outputs": [],
   "source": [
    "PATH1 = \"generator.pt\"\n",
    "torch.save(g.state_dict(), PATH1)\n",
    "PATH2 = \"critic.pt\"\n",
    "torch.save(c.state_dict(), PATH2)"
   ]
  },
  {
   "cell_type": "code",
   "execution_count": 20,
   "metadata": {},
   "outputs": [
    {
     "data": {
      "text/plain": [
       "True"
      ]
     },
     "execution_count": 20,
     "metadata": {},
     "output_type": "execute_result"
    }
   ],
   "source": [
    "n = torch.tensor(np.random.rand(1,64),dtype=torch.float)\n",
    "# print(g(n))\n",
    "pic = ((g(n) * (1/x_std)) + x_mean).detach().numpy().reshape([28,28])\n",
    "# print(pic)\n",
    "cv.imwrite('number.png',pic)"
   ]
  },
  {
   "cell_type": "code",
   "execution_count": 13,
   "metadata": {},
   "outputs": [
    {
     "ename": "",
     "evalue": "",
     "output_type": "error",
     "traceback": [
      "\u001b[1;31mCanceled future for execute_request message before replies were done"
     ]
    },
    {
     "ename": "",
     "evalue": "",
     "output_type": "error",
     "traceback": [
      "The Kernel crashed while executing code in the the current cell or a previous cell. Please review the code in the cell(s) to identify a possible cause of the failure. Click <a href='https://aka.ms/vscodeJupyterKernelCrash'>here</a> for more info. View Jupyter <a href='command:jupyter.viewOutput'>log</a> for further details."
     ]
    }
   ],
   "source": [
    "testImage = cv.imread('number.png')\n",
    "plt.imshow(testImage)"
   ]
  }
 ],
 "metadata": {
  "kernelspec": {
   "display_name": "Python 3.9.12 ('base')",
   "language": "python",
   "name": "python3"
  },
  "language_info": {
   "codemirror_mode": {
    "name": "ipython",
    "version": 3
   },
   "file_extension": ".py",
   "mimetype": "text/x-python",
   "name": "python",
   "nbconvert_exporter": "python",
   "pygments_lexer": "ipython3",
   "version": "3.9.12"
  },
  "orig_nbformat": 4,
  "vscode": {
   "interpreter": {
    "hash": "e751b4c2c5ee75ef4ea62d1f536c0551c373532623e733ce92253256fa40dde9"
   }
  }
 },
 "nbformat": 4,
 "nbformat_minor": 2
}
